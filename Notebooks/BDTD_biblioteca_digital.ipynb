{
  "nbformat": 4,
  "nbformat_minor": 0,
  "metadata": {
    "colab": {
      "name": "BDTD_biblioteca_digital.ipynb",
      "private_outputs": true,
      "provenance": [],
      "authorship_tag": "ABX9TyPXzq9JqcGa41Fw6Zg1q1Rn",
      "include_colab_link": true
    },
    "kernelspec": {
      "name": "ir",
      "display_name": "R"
    },
    "language_info": {
      "name": "R"
    }
  },
  "cells": [
    {
      "cell_type": "markdown",
      "metadata": {
        "id": "view-in-github",
        "colab_type": "text"
      },
      "source": [
        "<a href=\"https://colab.research.google.com/github/FranciscoFoz/Visualizacao_teses_dissertacoes_biblioteca_digital_BDTD/blob/main/Notebooks/BDTD_biblioteca_digital.ipynb\" target=\"_parent\"><img src=\"https://colab.research.google.com/assets/colab-badge.svg\" alt=\"Open In Colab\"/></a>"
      ]
    },
    {
      "cell_type": "markdown",
      "source": [
        "# Visualização das testes e dissertações sobre **biblioteca digital**  na BDTD"
      ],
      "metadata": {
        "id": "ftT9tSq8ifna"
      }
    },
    {
      "cell_type": "markdown",
      "source": [
        "## Importação das bibliotecas\n"
      ],
      "metadata": {
        "id": "gYW9mKSgikcZ"
      }
    },
    {
      "cell_type": "markdown",
      "source": [
        "Bibliotecas utilizadas:\n",
        "\n",
        "* dplyr\n",
        "* ggplot2"
      ],
      "metadata": {
        "id": "wcHErjuA9NYT"
      }
    },
    {
      "cell_type": "code",
      "execution_count": null,
      "metadata": {
        "id": "6OYbRiuliHc5"
      },
      "outputs": [],
      "source": [
        "library(dplyr)\n",
        "library(ggplot2)"
      ]
    },
    {
      "cell_type": "markdown",
      "source": [
        "## Importação dos dados\n"
      ],
      "metadata": {
        "id": "n-bAgrUTiqhv"
      }
    },
    {
      "cell_type": "code",
      "source": [
        "bdtd_biblioteca_digital <- read.csv(\"https://raw.githubusercontent.com/FranciscoFoz/Visualizacao_teses_dissertacoes_biblioteca_digital_BDTD/main/Dataset/BDTD_biblioteca_digital.csv\",\n",
        "                                    sep= \";\")\n"
      ],
      "metadata": {
        "id": "gNDnnMF-imQg"
      },
      "execution_count": null,
      "outputs": []
    },
    {
      "cell_type": "markdown",
      "source": [
        "## Selecionando as colunas necessárias"
      ],
      "metadata": {
        "id": "ZVcsZ9YOjPhl"
      }
    },
    {
      "cell_type": "code",
      "source": [
        "bdtd_biblioteca_digital <- select(bdtd_biblioteca_digital,id,institutions,types,publicationDates)"
      ],
      "metadata": {
        "id": "6TKnohs0jSrm"
      },
      "execution_count": null,
      "outputs": []
    },
    {
      "cell_type": "markdown",
      "source": [
        "Renomeei as colunas.\n",
        "\n",
        "\n"
      ],
      "metadata": {
        "id": "LEYysUMS9WfQ"
      }
    },
    {
      "cell_type": "code",
      "source": [
        "colnames(bdtd_biblioteca_digital) <- c('id','instituicao','tipos','ano_publicacao')"
      ],
      "metadata": {
        "id": "NizmI_1KlwbC"
      },
      "execution_count": null,
      "outputs": []
    },
    {
      "cell_type": "markdown",
      "source": [
        "### Quantidade total de documentos\n"
      ],
      "metadata": {
        "id": "TqacUYToiuwW"
      }
    },
    {
      "cell_type": "code",
      "source": [
        "quantidade_total_documentos <- count(bdtd_biblioteca_digital)"
      ],
      "metadata": {
        "id": "bVYV1enGixTN"
      },
      "execution_count": null,
      "outputs": []
    },
    {
      "cell_type": "code",
      "source": [
        "quantidade_total_documentos"
      ],
      "metadata": {
        "id": "Df65TGvVKtc6"
      },
      "execution_count": null,
      "outputs": []
    },
    {
      "cell_type": "code",
      "source": [
        "#Plotando o gráfico\n",
        "ggplot(quantidade_total_documentos, aes(label = n))+                            \n",
        "geom_text(aes(x=1.5,y=3),color='darkorchid4',size=80,fontface='bold') + \n",
        "\n",
        "#Configurando o título        \n",
        "ggtitle('Quantidade de teses e dissertações\\n sobre biblioteca digital') +      \n",
        "\n",
        "#Configurando os eixos\n",
        "xlim(0,5)+\n",
        "ylim(0,5)+\n",
        "\n",
        "#Configurando o estilo do gráfico\n",
        "theme(\n",
        "  panel.background = element_rect(fill = 'white'),\n",
        "  axis.title = element_blank(),\n",
        "  panel.border = element_blank(),\n",
        "  panel.grid = element_blank(),\n",
        "  axis.ticks = element_blank(),\n",
        "  axis.text = element_blank(),\n",
        "  plot.title = element_text(size=30)) +\n",
        "annotate('text',x=0,y=1,\n",
        "  label='Indexadas na BDTD de 1998 a 2019',\n",
        "  col='darkgrey',\n",
        "  cex=9,\n",
        "  fontface='bold',\n",
        "  adj=0)"
      ],
      "metadata": {
        "id": "-H3jO6FCOMlP"
      },
      "execution_count": null,
      "outputs": []
    },
    {
      "cell_type": "markdown",
      "source": [
        "### Quantidade de teses e dissertações\n"
      ],
      "metadata": {
        "id": "I_4qMp70ixqA"
      }
    },
    {
      "cell_type": "markdown",
      "source": [
        "Agora verificarei a quantidade de teses e dissertações entre o total."
      ],
      "metadata": {
        "id": "-SeXQzeI-Rt-"
      }
    },
    {
      "cell_type": "code",
      "source": [
        "#Modificando o nome do tipo de documento\n",
        "bdtd_biblioteca_digital[bdtd_biblioteca_digital==\"doctoralThesis\"] <- \"Teses\"\n",
        "bdtd_biblioteca_digital[bdtd_biblioteca_digital==\"masterThesis\"] <- \"Dissertações\"\n"
      ],
      "metadata": {
        "id": "hr_pZ2HjbEpu"
      },
      "execution_count": null,
      "outputs": []
    },
    {
      "cell_type": "code",
      "source": [
        "freq_teses_dissertacoes <- cbind(frequencia = table(bdtd_biblioteca_digital$tipos), percentual= prop.table(table(bdtd_biblioteca_digital$tipos)) * 100)\n",
        "freq_teses_dissertacoes"
      ],
      "metadata": {
        "id": "DuPfc2LxlO69"
      },
      "execution_count": null,
      "outputs": []
    },
    {
      "cell_type": "markdown",
      "source": [
        "Apenas 10.6% dos documentos são teses."
      ],
      "metadata": {
        "id": "qLrR8ktz_XoA"
      }
    },
    {
      "cell_type": "code",
      "source": [
        "teses_dissertacoes <- data.frame(freq_teses_dissertacoes)\n",
        "teses_dissertacoes$`tipo` <- rownames(teses_dissertacoes)\n",
        "teses_dissertacoes"
      ],
      "metadata": {
        "id": "HOQzKqg70hX7"
      },
      "execution_count": null,
      "outputs": []
    },
    {
      "cell_type": "markdown",
      "source": [
        "#### Dissertação X Teses: Gráfico de torta"
      ],
      "metadata": {
        "id": "JlMGGnf2_mKc"
      }
    },
    {
      "cell_type": "code",
      "source": [
        "#Plotando gráfico\n",
        "ggplot(data= teses_dissertacoes) + \n",
        "geom_bar(aes(x='',y=frequencia,fill=tipo),stat='identity') + \n",
        "\n",
        "#Modificando para gerar o gráfico de torta\n",
        "coord_polar(theta='y',start=0) +\n",
        "\n",
        "#Plotando os rótulos\n",
        "geom_text(aes(x='', y=frequencia,label = frequencia),\n",
        "              hjust=2,vjust=-1,size=5,fontface='bold') + \n",
        "\n",
        "#Plotando o título e subtítulo\n",
        "ggtitle('Quantidade total de teses e dissertações sobre biblioteca digital',\n",
        "        'Indexadas na BDTD de 1998 a 2019') +\n",
        "\n",
        "#Modificando a legenda e cores\n",
        "scale_fill_manual(name=\"Tipo\", \n",
        "                  values = c(\"Dissertações\"=\"darkorchid4\", \"Teses\"=\"darkorchid1\")) +\n",
        "\n",
        "#Configurando o tema\n",
        "theme(\n",
        "  panel.background = element_rect(fill = 'white'),\n",
        "  axis.title.x = element_blank(),\n",
        "  axis.title.y = element_blank(),\n",
        "  panel.border = element_blank(),\n",
        "  panel.grid = element_blank(),\n",
        "  axis.ticks = element_blank(),\n",
        "  axis.text.x = element_blank(),\n",
        "  plot.title=element_text(size=15),\n",
        "  plot.subtitle=element_text(colour='darkgrey',face='bold', size=12)\n",
        ")"
      ],
      "metadata": {
        "id": "SmYRWpLWW1PA"
      },
      "execution_count": null,
      "outputs": []
    },
    {
      "cell_type": "markdown",
      "source": [
        "Mas gráficos de tortas não são tão legais para se visualizar dados. \n",
        "Então irei plotar um gráfico de barras empilhadas."
      ],
      "metadata": {
        "id": "N7sZzH82AQ_l"
      }
    },
    {
      "cell_type": "markdown",
      "source": [
        "#### Dissertação X Teses: Gráfico de barras empilhadas"
      ],
      "metadata": {
        "id": "e5p8_nNcAgfg"
      }
    },
    {
      "cell_type": "code",
      "source": [
        "#Plotando o gráfico\n",
        "ggplot(data= teses_dissertacoes) + \n",
        "geom_bar(aes(y='',x=frequencia,fill=tipo),stat='identity',width = 0.5) +\n",
        "\n",
        "#Configurando título, rótulos e eixos\n",
        "ggtitle('Quantidade total de teses e dissertações sobre biblioteca digital','Indexadas na BDTD de 1998 a 2019') +\n",
        "geom_text(aes(y='', x=frequencia,label = frequencia),hjust= 3,size=5,fontface='bold') +\n",
        "labs(x='',y='') + \n",
        "\n",
        "#Configurando legenda e cores\n",
        "scale_fill_manual(name=\"Tipo\", \n",
        "                  values = c(\"Dissertações\"=\"darkorchid4\", \"Teses\"=\"darkorchid1\"))+  \n",
        "\n",
        "#Configurando o tema\n",
        "theme(\n",
        "  panel.background = element_rect(fill = 'white'),\n",
        "  axis.text.x=element_blank(),\n",
        "  axis.ticks= element_blank(),\n",
        "  plot.title=element_text(size=15),\n",
        "  legend.position= c(.9,.9),\n",
        "  plot.subtitle=element_text(colour='darkgrey',face='bold', size=12)) + \n",
        "\n",
        "#Plotando o texto\n",
        "annotate(geom='text',label='Do total de 66 documentos ',x=0,y=0.65,size=4,color='black',fontface='bold',adj = 0) +\n",
        "annotate(geom='text',label='10.6% são teses',x=0,y=0.6,size=4,color='darkorchid1',fontface='bold',adj = 0) + \n",
        "annotate(geom='text',label='89.4% são dissertações',x=0,y=0.55,size=4,color='darkorchid4',fontface='bold',adj = 0)"
      ],
      "metadata": {
        "id": "sHNpyEw0wzg3"
      },
      "execution_count": null,
      "outputs": []
    },
    {
      "cell_type": "markdown",
      "source": [
        "\n",
        "### Dissertação X Teses: Visualização ao longo do tempo\n"
      ],
      "metadata": {
        "id": "R_uIsNigi0E4"
      }
    },
    {
      "cell_type": "code",
      "source": [
        "freq_ano <- cbind(frequencia = table(bdtd_biblioteca_digital$ano_publicacao), percentual= prop.table(table(bdtd_biblioteca_digital$ano_publicacao)) * 100)\n",
        "freq_ano"
      ],
      "metadata": {
        "id": "wfC80plqmV2h"
      },
      "execution_count": null,
      "outputs": []
    },
    {
      "cell_type": "markdown",
      "source": [
        "Durante o período de 1998 a 2019, teve um pico bem grande em 2011, para os trabalhos publicados sobre o tema. "
      ],
      "metadata": {
        "id": "U4G0jBlBB617"
      }
    },
    {
      "cell_type": "markdown",
      "source": [
        "#### Verificando a quantidade anual de dissertações e teses"
      ],
      "metadata": {
        "id": "VeEYKBIhCN2H"
      }
    },
    {
      "cell_type": "code",
      "source": [
        "freq_teses_dissertacoes_ano <- table(bdtd_biblioteca_digital$ano_publicacao,bdtd_biblioteca_digital$tipos)\n",
        "freq_teses_dissertacoes_ano"
      ],
      "metadata": {
        "id": "GvTkLBZuoYrc"
      },
      "execution_count": null,
      "outputs": []
    },
    {
      "cell_type": "code",
      "source": [
        "freq_teses_dissertacoes_ano <- as.data.frame(freq_teses_dissertacoes_ano)\n",
        "colnames(freq_teses_dissertacoes_ano) <- c('ano','tipos','freq')\n",
        "freq_teses_dissertacoes_ano"
      ],
      "metadata": {
        "id": "tOBzn6aX9TT_"
      },
      "execution_count": null,
      "outputs": []
    },
    {
      "cell_type": "markdown",
      "source": [
        "#### Criando o gráfico de linha"
      ],
      "metadata": {
        "id": "M_nOYqY7CWzA"
      }
    },
    {
      "cell_type": "code",
      "source": [
        "#Plotando o gráfico\n",
        "ggplot(data=freq_teses_dissertacoes_ano) + \n",
        "geom_line(aes(x=ano,y=freq,group=tipos,color=tipos),size = 1)+\n",
        "\n",
        "#Alterando o limite do eixo y\n",
        "scale_y_continuous(breaks = seq(0, 15, by = 1))+\n",
        "\n",
        "#Configurando a legenda e as cores\n",
        "scale_color_manual(name=\"Tipo\", \n",
        "                  values = c(\"Dissertações\"=\"darkorchid4\", \"Teses\"=\"darkorchid1\")) + \n",
        "\n",
        "#Configurando o título e os rótulos dos eixos\n",
        "labs(title='Quantidade de teses e dissertações sobre biblioteca digital', \n",
        "caption='Fonte: BDTD', \n",
        "y='',\n",
        "x='')+\n",
        "\n",
        "#Configurando o tema\n",
        "theme_bw()+\n",
        "theme(\n",
        "    panel.grid.minor = element_blank(),\n",
        "    panel.grid.major.x = element_blank(),\n",
        "    axis.text.x = element_text(angle = 45, vjust=0.5),\n",
        "    axis.line.x.top = element_blank(),\n",
        "    legend.position= c(.91,.92),\n",
        "    plot.title=element_text(size=15),\n",
        "    panel.border = element_rect(colour='lightgrey')\n",
        ")"
      ],
      "metadata": {
        "id": "nDjBnzBV7QCb"
      },
      "execution_count": null,
      "outputs": []
    },
    {
      "cell_type": "markdown",
      "source": [
        "Podemos ver que a explosão dos trabalhos acadêmicos sobre bibliotecas digitais foram no começo da década de 2010, em 2011. \n",
        "\n",
        "Seria interessante outro estudo para verificar essa foto do período, mas apenas com artigos de periódicos publicados."
      ],
      "metadata": {
        "id": "ROcF0XRFE_Hk"
      }
    },
    {
      "cell_type": "markdown",
      "source": [
        "\n",
        "### Dissertação X Teses: Quantidade por instituição\n",
        "\n"
      ],
      "metadata": {
        "id": "qzcysqqii1xG"
      }
    },
    {
      "cell_type": "markdown",
      "source": [
        "Verificarei a quantidade de documentos publicados por instituição para entender quais foram as que mais publicaram durante o período."
      ],
      "metadata": {
        "id": "ViL6ZMg1DYDN"
      }
    },
    {
      "cell_type": "code",
      "source": [
        "#Modificando o nome de duas instituições que estavam com \"_\"\n",
        "bdtd_biblioteca_digital[bdtd_biblioteca_digital==\"PUC_GO\"] <- \"PUC GO\"\n",
        "bdtd_biblioteca_digital[bdtd_biblioteca_digital==\"PUC_SP\"] <- \"PUC SP\"\n"
      ],
      "metadata": {
        "id": "5RMtO0Kmq1wj"
      },
      "execution_count": null,
      "outputs": []
    },
    {
      "cell_type": "code",
      "source": [
        "freq_instituicao <- cbind(frequencia = table(bdtd_biblioteca_digital$instituicao), percentual= prop.table(table(bdtd_biblioteca_digital$instituicao)) * 100)\n",
        "freq_instituicao"
      ],
      "metadata": {
        "id": "w6xedPX1mXzu"
      },
      "execution_count": null,
      "outputs": []
    },
    {
      "cell_type": "code",
      "source": [
        "#Prepração dos dados para a visualização\n",
        "instituicoes <- data.frame(freq_instituicao)\n",
        "\n",
        "#Criarei uma categoria que se a instituição tiver entre os top 20% considerada maior e o restante menor\n",
        "instituicoes$categoria_quantidade <- ifelse(instituicoes$frequencia >= max(instituicoes$frequencia) * 0.8 , 'maior', 'menor')\n",
        "\n",
        "#Ordenando pela frequencia\n",
        "instituicoes <- instituicoes[order(instituicoes$frequencia), ]\n",
        "instituicoes$`instituicao` <- rownames(instituicoes)\n",
        "instituicoes$`instituicao` <- factor(instituicoes$`instituicao`, levels = instituicoes$`instituicao`) \n"
      ],
      "metadata": {
        "id": "1LvOT7IEpUMW"
      },
      "execution_count": null,
      "outputs": []
    },
    {
      "cell_type": "code",
      "source": [
        "#Plotando o gráfico\n",
        "ggplot(data= instituicoes,aes(y=instituicao,x=frequencia,fill=categoria_quantidade)) + \n",
        "geom_bar(stat='identity') +\n",
        "\n",
        "#Plotando os rótulos, título e subtítulo\n",
        "geom_text(aes(label = frequencia),hjust = -0.5) +\n",
        "ggtitle('Quantidade de teses e dissertações sobre biblioteca digital',\n",
        "          'Indexadas na BDTD de 1998 a 2019') +\n",
        "labs(x='',y='Instituições')+ \n",
        "\n",
        "#Configurando as cores\n",
        "scale_fill_manual(values= c('maior'='darkorchid4','menor'='grey')) +\n",
        "\n",
        "#Configurando o tema\n",
        "theme(\n",
        "  panel.background = element_rect(fill = 'white'),\n",
        "  axis.text.x=element_blank(),\n",
        "  axis.ticks= element_blank(),\n",
        "  legend.position='none',\n",
        "  plot.title=element_text(size=15),\n",
        "  plot.subtitle=element_text(colour='darkgrey',face='bold', size=12)) +\n",
        "\n",
        "#Plotando o texto\n",
        "annotate(geom='text',label='UFMG e UNB então entre os 20%\\n com maior quantidade',x=15,y=2,size=4,color='darkorchid4',fontface='bold',adj = 1)"
      ],
      "metadata": {
        "id": "Pm1EhSaw823t"
      },
      "execution_count": null,
      "outputs": []
    },
    {
      "cell_type": "markdown",
      "source": [
        "#### Teses por instituição\n"
      ],
      "metadata": {
        "id": "HXfWn7M3MelD"
      }
    },
    {
      "cell_type": "markdown",
      "source": [
        "Verificarei por cada tipo de instituição."
      ],
      "metadata": {
        "id": "YozHDt5nE3Nc"
      }
    },
    {
      "cell_type": "code",
      "source": [
        "freq_instituicoes_tipos <- cbind(table(bdtd_biblioteca_digital$instituicao,bdtd_biblioteca_digital$tipos))\n",
        "freq_instituicoes_tipos <- as.data.frame(freq_instituicoes_tipos)\n",
        "freq_instituicoes_tipos"
      ],
      "metadata": {
        "id": "6nXHwjPjMhJ5"
      },
      "execution_count": null,
      "outputs": []
    },
    {
      "cell_type": "markdown",
      "source": [
        "Filtrarei apenas as teses."
      ],
      "metadata": {
        "id": "O8UycsboGVbC"
      }
    },
    {
      "cell_type": "code",
      "source": [
        "teses <- select(freq_instituicoes_tipos,Teses)\n",
        "teses <- filter(teses, Teses > 0)"
      ],
      "metadata": {
        "id": "eAY3SCsvNwIK"
      },
      "execution_count": null,
      "outputs": []
    },
    {
      "cell_type": "code",
      "source": [
        "teses"
      ],
      "metadata": {
        "id": "-OGtPTOSQg4T"
      },
      "execution_count": null,
      "outputs": []
    },
    {
      "cell_type": "code",
      "source": [
        "#Regra dos top 20%\n",
        "teses$categoria_quantidade <- ifelse(teses$`Teses` >= max(teses$`Teses`) * 0.8 , 'maior', 'menor')\n",
        "\n",
        "#Ordenando pela frequencia\n",
        "teses <- teses[order(teses$`Teses`), ]\n",
        "teses$`instituicao` <- rownames(teses)\n",
        "teses$`instituicao` <- factor(teses$`instituicao`, levels = teses$`instituicao`) "
      ],
      "metadata": {
        "id": "TatrXA4RQWVl"
      },
      "execution_count": null,
      "outputs": []
    },
    {
      "cell_type": "code",
      "source": [
        "#Plotando o gráfico\n",
        "ggplot(data= teses,aes(y=instituicao,x=Teses,fill=categoria_quantidade)) + \n",
        "geom_bar(stat='identity') +\n",
        "\n",
        "#Plotando os rótulos, título e subtítulo\n",
        "geom_text(aes(label = Teses),hjust = -0.5) +\n",
        "ggtitle('Quantidade de teses sobre biblioteca digital','Indexadas na BDTD de 1998 a 2019') +\n",
        "labs(x='',y='Instituições')+ \n",
        "\n",
        "#Configurando as cores\n",
        "scale_fill_manual(values= c('maior'='darkorchid4','menor'='grey')) +\n",
        "\n",
        "#Configurando o tema\n",
        "theme(\n",
        "  panel.background = element_rect(fill = 'white'),\n",
        "  axis.text.x=element_blank(),\n",
        "  axis.ticks= element_blank(),\n",
        "  legend.position='none',\n",
        "  plot.title=element_text(size=15),\n",
        "  plot.subtitle=element_text(colour='darkgrey',face='bold', size=12)) +\n",
        "\n",
        "#Configurando o texto\n",
        "annotate(geom='text',label='A UNB está entre os 20%\\n com maior quantidade',x=5,y=0.8,size=4,color='darkorchid4',fontface='bold',adj = 1)"
      ],
      "metadata": {
        "id": "frTyLhkKNtPo"
      },
      "execution_count": null,
      "outputs": []
    },
    {
      "cell_type": "markdown",
      "source": [
        "#### Dissertações por instituição\n"
      ],
      "metadata": {
        "id": "dYP4y0dVMh8r"
      }
    },
    {
      "cell_type": "code",
      "source": [
        "dissertacoes <- select(freq_instituicoes_tipos,Dissertações)\n",
        "dissertacoes <- filter(dissertacoes, Dissertações > 0)"
      ],
      "metadata": {
        "id": "9kKdxJpeOMLn"
      },
      "execution_count": null,
      "outputs": []
    },
    {
      "cell_type": "code",
      "source": [
        "#Regra dos top 20%\n",
        "dissertacoes$categoria_quantidade <- ifelse(dissertacoes$`Dissertações` >= max(dissertacoes$`Dissertações`) * 0.8 , 'maior', 'menor')\n",
        "\n",
        "#Ordenando pela frequencia\n",
        "dissertacoes <- dissertacoes[order(dissertacoes$`Dissertações`), ]\n",
        "dissertacoes$`instituicao` <- rownames(dissertacoes)\n",
        "dissertacoes$`instituicao` <- factor(dissertacoes$`instituicao`, levels = dissertacoes$`instituicao`) "
      ],
      "metadata": {
        "id": "_88SPz77tNDZ"
      },
      "execution_count": null,
      "outputs": []
    },
    {
      "cell_type": "code",
      "source": [
        "#Plotando o gráfico\n",
        "ggplot(data= dissertacoes,aes(y=instituicao,x=Dissertações,fill=categoria_quantidade)) + \n",
        "geom_bar(stat='identity') +\n",
        "\n",
        "#Plotando os rótulos, títulos e subtítulo\n",
        "geom_text(aes(label = Dissertações),hjust = -0.5) +\n",
        "ggtitle('Quantidade de dissertações sobre biblioteca digital','Indexadas na BDTD de 1998 a 2019') +\n",
        "labs(x='',y='instituicao')+ \n",
        "\n",
        "#Configurando as cores\n",
        "scale_fill_manual(values= c('maior'='darkorchid4','menor'='grey')) +\n",
        "\n",
        "#Configurando o tema\n",
        "theme(\n",
        "  panel.background = element_rect(fill = 'white'),\n",
        "  axis.text.x=element_blank(),\n",
        "  axis.ticks= element_blank(),\n",
        "  legend.position='none',\n",
        "  plot.title=element_text(size=15),\n",
        "  plot.subtitle=element_text(colour='darkgrey',face='bold', size=12)) +\n",
        "\n",
        "#Configurando o texto\n",
        "annotate(geom='text',label='A UFMG está entre os 20%\\n com maior quantidade',x=15,y=1,size=4,color='darkorchid4',fontface='bold',adj = 1)"
      ],
      "metadata": {
        "id": "vzqeT6ECtNYq"
      },
      "execution_count": null,
      "outputs": []
    },
    {
      "cell_type": "markdown",
      "source": [
        "## Considerações finais\n"
      ],
      "metadata": {
        "id": "w_4k4_ZwHmW0"
      }
    },
    {
      "cell_type": "markdown",
      "source": [
        "Foi possível verificar que o maior número de publicações de trabalhos acadêmicos sobre \"biblioteca digital\" entre 1998 e 2019 foi em 2011.\n",
        "\n",
        "As instituições que mais publicaram sobre o tema foram a UFMG e a UNB.\n"
      ],
      "metadata": {
        "id": "KlyLqw2zHpkf"
      }
    }
  ]
}